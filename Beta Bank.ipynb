{
 "cells": [
  {
   "cell_type": "markdown",
   "metadata": {},
   "source": [
    "# Table of Contents"
   ]
  },
  {
   "cell_type": "markdown",
   "metadata": {},
   "source": [
    "[Introduction](#1)\n",
    "\n",
    "[Section 1: Preparing the Data](#2)\n",
    "\n",
    "[Section 2: Examining the Balance of Classes](#3)\n",
    "\n",
    "[Section 3: Improving the Quality of the Model](#4)\n",
    "- [APPROACH #1 (Upsampling)](#4.1)\n",
    "- [APPROACH #2 (Downsampling)](#4.2)\n",
    "\n",
    "[Section 4: Performing the Final Test](#5)\n",
    "\n",
    "[Conclusion](#6)"
   ]
  },
  {
   "cell_type": "markdown",
   "metadata": {},
   "source": [
    "# Introduction <a id=1></a>"
   ]
  },
  {
   "cell_type": "markdown",
   "metadata": {},
   "source": [
    "I am a data scientist for Beta Bank who has been hired to build a machine learning model that uses data on clients’ past behavior and termination of contracts with the bank to predict whether or not a customer is likely to leave the bank soon. \n",
    "\n",
    "It is imperative that the model has an F1 score of at least 0.59, largely because Beta Bank stakeholders have realized that it is cheaper to keep existing customers than it is to attract new ones. \n",
    "\n",
    "To help me build the (random forest) model, I follow the steps below:\n",
    "\n",
    "1) Download the behavior dataset and prepare it.\n",
    "\n",
    "2) Examine the balance of classes by first training the model without taking into account any imbalances.\n",
    "\n",
    "3) Improve the quality of the model by using two different approaches (upsampling and downsampling) to fix the class imbalance. \n",
    "\n",
    "4) Perform a final test on the model, and compare the AUC-ROC metric to the F1 value."
   ]
  },
  {
   "cell_type": "markdown",
   "metadata": {},
   "source": [
    "# Section 1: Preparing the Data <a id=2></a>"
   ]
  },
  {
   "cell_type": "markdown",
   "metadata": {},
   "source": [
    "The features and target of the dataframe on clients' past behavior are the following:\n",
    "\n",
    "**FEATURES**\n",
    "* RowNumber — Index of the data string\n",
    "* CustomerId — The unique identifier of the customer\n",
    "* Surname — The surname of the customer\n",
    "* CreditScore — The credit score of the customer\n",
    "* Geography — The customer's country of residence\n",
    "* Gender — The customer's gender\n",
    "* Age — The customer's age\n",
    "* Tenure — The number of years it takes for the customer’s fixed deposit to mature\n",
    "* Balance — The customer's account balance\n",
    "* NumOfProducts — The number of banking products used by the customer\n",
    "* HasCrCard — Whether or not the customer has a credit card (1 = Yes, 0 = No)\n",
    "* IsActiveMember — Whether or not the customer is an active member (1 = Yes, 0 = No)\n",
    "* EstimatedSalary — The customer's estimated salary\n",
    "\n",
    "**TARGET**\n",
    "\n",
    "Exited — Whether or not the сustomer has left Beta Bank (1 = Yes, 0 = No)"
   ]
  },
  {
   "cell_type": "code",
   "execution_count": 1,
   "metadata": {},
   "outputs": [],
   "source": [
    "import matplotlib.pyplot as plt\n",
    "import pandas as pd\n",
    "import re\n",
    "from sklearn.ensemble import RandomForestClassifier\n",
    "from sklearn.metrics import f1_score\n",
    "from sklearn.metrics import precision_score\n",
    "from sklearn.metrics import recall_score\n",
    "from sklearn.metrics import roc_auc_score\n",
    "from sklearn.metrics import roc_curve\n",
    "from sklearn.model_selection import train_test_split\n",
    "from sklearn.preprocessing import OrdinalEncoder\n",
    "from sklearn.utils import shuffle"
   ]
  },
  {
   "cell_type": "code",
   "execution_count": 2,
   "metadata": {},
   "outputs": [],
   "source": [
    "client_data = pd.read_csv('/datasets/Churn.csv')"
   ]
  },
  {
   "cell_type": "markdown",
   "metadata": {},
   "source": [
    "It is standard practice for column names to be written in snake_case, so the following code defines a function that converts all column names to snake_case."
   ]
  },
  {
   "cell_type": "code",
   "execution_count": 3,
   "metadata": {},
   "outputs": [],
   "source": [
    "import re\n",
    "\n",
    "def snake_case(column_name):\n",
    "    column_name = re.sub('(.)([A-Z][a-z]+)', r'\\1_\\2', column_name)\n",
    "    return re.sub('([a-z0-9])([A-Z])', r'\\1_\\2', column_name).lower()\n",
    "\n",
    "client_data.columns = [snake_case(column_name) for column_name in client_data.columns]"
   ]
  },
  {
   "cell_type": "markdown",
   "metadata": {},
   "source": [
    "I will rename the \"geography\" column to \"country\" because I think that makes it less ambiguous what kind of values appear in that column."
   ]
  },
  {
   "cell_type": "code",
   "execution_count": 4,
   "metadata": {},
   "outputs": [],
   "source": [
    "client_data.rename(columns = {'geography': 'country'}, inplace = True)"
   ]
  },
  {
   "cell_type": "markdown",
   "metadata": {},
   "source": [
    "It is always a good idea to use the info function to see the data types of the column values, as well as how many null values there are (if any)."
   ]
  },
  {
   "cell_type": "code",
   "execution_count": 5,
   "metadata": {},
   "outputs": [
    {
     "name": "stdout",
     "output_type": "stream",
     "text": [
      "<class 'pandas.core.frame.DataFrame'>\n",
      "RangeIndex: 10000 entries, 0 to 9999\n",
      "Data columns (total 14 columns):\n",
      " #   Column            Non-Null Count  Dtype  \n",
      "---  ------            --------------  -----  \n",
      " 0   row_number        10000 non-null  int64  \n",
      " 1   customer_id       10000 non-null  int64  \n",
      " 2   surname           10000 non-null  object \n",
      " 3   credit_score      10000 non-null  int64  \n",
      " 4   country           10000 non-null  object \n",
      " 5   gender            10000 non-null  object \n",
      " 6   age               10000 non-null  int64  \n",
      " 7   tenure            9091 non-null   float64\n",
      " 8   balance           10000 non-null  float64\n",
      " 9   num_of_products   10000 non-null  int64  \n",
      " 10  has_cr_card       10000 non-null  int64  \n",
      " 11  is_active_member  10000 non-null  int64  \n",
      " 12  estimated_salary  10000 non-null  float64\n",
      " 13  exited            10000 non-null  int64  \n",
      "dtypes: float64(3), int64(8), object(3)\n",
      "memory usage: 1.1+ MB\n"
     ]
    }
   ],
   "source": [
    "client_data.info()"
   ]
  },
  {
   "cell_type": "markdown",
   "metadata": {},
   "source": [
    "The **tenure** column concerns me, as that is the only one with null values. Hence, I will fill those null values with the 0s. My reasoning for this is that if a client has a null **tenure** value, that is probably equivalent to saying N/A for \"not applicable\", which implies 0.\n",
    "\n",
    "Furthermore, I noticed that the non-null **tenure** values all have 0 after the decimal place, which implies that Beta Bank only ever offers fixed deposit investments whose durations are in whole years, not a decimal number of years such as 4.5. Hence, I will change the Dtype to int64."
   ]
  },
  {
   "cell_type": "code",
   "execution_count": 6,
   "metadata": {},
   "outputs": [],
   "source": [
    "client_data['tenure'] = client_data['tenure'].fillna(0)\n",
    "\n",
    "client_data['tenure'] = client_data['tenure'].astype(int)"
   ]
  },
  {
   "cell_type": "markdown",
   "metadata": {},
   "source": [
    "Unfortunately, at this time sklearn does not support handling raw categorical data, hence the code below uses the OrdinalEncoder class to encode the **country** and **gender** columns. \n",
    "\n",
    "Notice that I am deliberately not encoding the **surname** values; this is because most of the surnames in the dataframe are distinct, and therefore won't help the model predict **exited** values, so I will not include that column when I use the train_test_split function to create the training, validating, and testing sets. \n",
    "\n",
    "(I will also exclude the **row_number** and **customer_id** columns because those values are unique for each customer, and therefore including them when training the model runs of the risk of the model being overfitted.)"
   ]
  },
  {
   "cell_type": "code",
   "execution_count": 7,
   "metadata": {},
   "outputs": [
    {
     "data": {
      "text/html": [
       "<div>\n",
       "<style scoped>\n",
       "    .dataframe tbody tr th:only-of-type {\n",
       "        vertical-align: middle;\n",
       "    }\n",
       "\n",
       "    .dataframe tbody tr th {\n",
       "        vertical-align: top;\n",
       "    }\n",
       "\n",
       "    .dataframe thead th {\n",
       "        text-align: right;\n",
       "    }\n",
       "</style>\n",
       "<table border=\"1\" class=\"dataframe\">\n",
       "  <thead>\n",
       "    <tr style=\"text-align: right;\">\n",
       "      <th></th>\n",
       "      <th>row_number</th>\n",
       "      <th>customer_id</th>\n",
       "      <th>surname</th>\n",
       "      <th>credit_score</th>\n",
       "      <th>country</th>\n",
       "      <th>gender</th>\n",
       "      <th>age</th>\n",
       "      <th>tenure</th>\n",
       "      <th>balance</th>\n",
       "      <th>num_of_products</th>\n",
       "      <th>has_cr_card</th>\n",
       "      <th>is_active_member</th>\n",
       "      <th>estimated_salary</th>\n",
       "      <th>exited</th>\n",
       "    </tr>\n",
       "  </thead>\n",
       "  <tbody>\n",
       "    <tr>\n",
       "      <th>0</th>\n",
       "      <td>1</td>\n",
       "      <td>15634602</td>\n",
       "      <td>Hargrave</td>\n",
       "      <td>619</td>\n",
       "      <td>0</td>\n",
       "      <td>0</td>\n",
       "      <td>42</td>\n",
       "      <td>2</td>\n",
       "      <td>0.00</td>\n",
       "      <td>1</td>\n",
       "      <td>1</td>\n",
       "      <td>1</td>\n",
       "      <td>101348.88</td>\n",
       "      <td>1</td>\n",
       "    </tr>\n",
       "    <tr>\n",
       "      <th>1</th>\n",
       "      <td>2</td>\n",
       "      <td>15647311</td>\n",
       "      <td>Hill</td>\n",
       "      <td>608</td>\n",
       "      <td>2</td>\n",
       "      <td>0</td>\n",
       "      <td>41</td>\n",
       "      <td>1</td>\n",
       "      <td>83807.86</td>\n",
       "      <td>1</td>\n",
       "      <td>0</td>\n",
       "      <td>1</td>\n",
       "      <td>112542.58</td>\n",
       "      <td>0</td>\n",
       "    </tr>\n",
       "    <tr>\n",
       "      <th>2</th>\n",
       "      <td>3</td>\n",
       "      <td>15619304</td>\n",
       "      <td>Onio</td>\n",
       "      <td>502</td>\n",
       "      <td>0</td>\n",
       "      <td>0</td>\n",
       "      <td>42</td>\n",
       "      <td>8</td>\n",
       "      <td>159660.80</td>\n",
       "      <td>3</td>\n",
       "      <td>1</td>\n",
       "      <td>0</td>\n",
       "      <td>113931.57</td>\n",
       "      <td>1</td>\n",
       "    </tr>\n",
       "    <tr>\n",
       "      <th>3</th>\n",
       "      <td>4</td>\n",
       "      <td>15701354</td>\n",
       "      <td>Boni</td>\n",
       "      <td>699</td>\n",
       "      <td>0</td>\n",
       "      <td>0</td>\n",
       "      <td>39</td>\n",
       "      <td>1</td>\n",
       "      <td>0.00</td>\n",
       "      <td>2</td>\n",
       "      <td>0</td>\n",
       "      <td>0</td>\n",
       "      <td>93826.63</td>\n",
       "      <td>0</td>\n",
       "    </tr>\n",
       "    <tr>\n",
       "      <th>4</th>\n",
       "      <td>5</td>\n",
       "      <td>15737888</td>\n",
       "      <td>Mitchell</td>\n",
       "      <td>850</td>\n",
       "      <td>2</td>\n",
       "      <td>0</td>\n",
       "      <td>43</td>\n",
       "      <td>2</td>\n",
       "      <td>125510.82</td>\n",
       "      <td>1</td>\n",
       "      <td>1</td>\n",
       "      <td>1</td>\n",
       "      <td>79084.10</td>\n",
       "      <td>0</td>\n",
       "    </tr>\n",
       "    <tr>\n",
       "      <th>...</th>\n",
       "      <td>...</td>\n",
       "      <td>...</td>\n",
       "      <td>...</td>\n",
       "      <td>...</td>\n",
       "      <td>...</td>\n",
       "      <td>...</td>\n",
       "      <td>...</td>\n",
       "      <td>...</td>\n",
       "      <td>...</td>\n",
       "      <td>...</td>\n",
       "      <td>...</td>\n",
       "      <td>...</td>\n",
       "      <td>...</td>\n",
       "      <td>...</td>\n",
       "    </tr>\n",
       "    <tr>\n",
       "      <th>9995</th>\n",
       "      <td>9996</td>\n",
       "      <td>15606229</td>\n",
       "      <td>Obijiaku</td>\n",
       "      <td>771</td>\n",
       "      <td>0</td>\n",
       "      <td>1</td>\n",
       "      <td>39</td>\n",
       "      <td>5</td>\n",
       "      <td>0.00</td>\n",
       "      <td>2</td>\n",
       "      <td>1</td>\n",
       "      <td>0</td>\n",
       "      <td>96270.64</td>\n",
       "      <td>0</td>\n",
       "    </tr>\n",
       "    <tr>\n",
       "      <th>9996</th>\n",
       "      <td>9997</td>\n",
       "      <td>15569892</td>\n",
       "      <td>Johnstone</td>\n",
       "      <td>516</td>\n",
       "      <td>0</td>\n",
       "      <td>1</td>\n",
       "      <td>35</td>\n",
       "      <td>10</td>\n",
       "      <td>57369.61</td>\n",
       "      <td>1</td>\n",
       "      <td>1</td>\n",
       "      <td>1</td>\n",
       "      <td>101699.77</td>\n",
       "      <td>0</td>\n",
       "    </tr>\n",
       "    <tr>\n",
       "      <th>9997</th>\n",
       "      <td>9998</td>\n",
       "      <td>15584532</td>\n",
       "      <td>Liu</td>\n",
       "      <td>709</td>\n",
       "      <td>0</td>\n",
       "      <td>0</td>\n",
       "      <td>36</td>\n",
       "      <td>7</td>\n",
       "      <td>0.00</td>\n",
       "      <td>1</td>\n",
       "      <td>0</td>\n",
       "      <td>1</td>\n",
       "      <td>42085.58</td>\n",
       "      <td>1</td>\n",
       "    </tr>\n",
       "    <tr>\n",
       "      <th>9998</th>\n",
       "      <td>9999</td>\n",
       "      <td>15682355</td>\n",
       "      <td>Sabbatini</td>\n",
       "      <td>772</td>\n",
       "      <td>1</td>\n",
       "      <td>1</td>\n",
       "      <td>42</td>\n",
       "      <td>3</td>\n",
       "      <td>75075.31</td>\n",
       "      <td>2</td>\n",
       "      <td>1</td>\n",
       "      <td>0</td>\n",
       "      <td>92888.52</td>\n",
       "      <td>1</td>\n",
       "    </tr>\n",
       "    <tr>\n",
       "      <th>9999</th>\n",
       "      <td>10000</td>\n",
       "      <td>15628319</td>\n",
       "      <td>Walker</td>\n",
       "      <td>792</td>\n",
       "      <td>0</td>\n",
       "      <td>0</td>\n",
       "      <td>28</td>\n",
       "      <td>0</td>\n",
       "      <td>130142.79</td>\n",
       "      <td>1</td>\n",
       "      <td>1</td>\n",
       "      <td>0</td>\n",
       "      <td>38190.78</td>\n",
       "      <td>0</td>\n",
       "    </tr>\n",
       "  </tbody>\n",
       "</table>\n",
       "<p>10000 rows × 14 columns</p>\n",
       "</div>"
      ],
      "text/plain": [
       "      row_number  customer_id    surname  credit_score  country  gender  age  \\\n",
       "0              1     15634602   Hargrave           619        0       0   42   \n",
       "1              2     15647311       Hill           608        2       0   41   \n",
       "2              3     15619304       Onio           502        0       0   42   \n",
       "3              4     15701354       Boni           699        0       0   39   \n",
       "4              5     15737888   Mitchell           850        2       0   43   \n",
       "...          ...          ...        ...           ...      ...     ...  ...   \n",
       "9995        9996     15606229   Obijiaku           771        0       1   39   \n",
       "9996        9997     15569892  Johnstone           516        0       1   35   \n",
       "9997        9998     15584532        Liu           709        0       0   36   \n",
       "9998        9999     15682355  Sabbatini           772        1       1   42   \n",
       "9999       10000     15628319     Walker           792        0       0   28   \n",
       "\n",
       "      tenure    balance  num_of_products  has_cr_card  is_active_member  \\\n",
       "0          2       0.00                1            1                 1   \n",
       "1          1   83807.86                1            0                 1   \n",
       "2          8  159660.80                3            1                 0   \n",
       "3          1       0.00                2            0                 0   \n",
       "4          2  125510.82                1            1                 1   \n",
       "...      ...        ...              ...          ...               ...   \n",
       "9995       5       0.00                2            1                 0   \n",
       "9996      10   57369.61                1            1                 1   \n",
       "9997       7       0.00                1            0                 1   \n",
       "9998       3   75075.31                2            1                 0   \n",
       "9999       0  130142.79                1            1                 0   \n",
       "\n",
       "      estimated_salary  exited  \n",
       "0            101348.88       1  \n",
       "1            112542.58       0  \n",
       "2            113931.57       1  \n",
       "3             93826.63       0  \n",
       "4             79084.10       0  \n",
       "...                ...     ...  \n",
       "9995          96270.64       0  \n",
       "9996         101699.77       0  \n",
       "9997          42085.58       1  \n",
       "9998          92888.52       1  \n",
       "9999          38190.78       0  \n",
       "\n",
       "[10000 rows x 14 columns]"
      ]
     },
     "metadata": {},
     "output_type": "display_data"
    }
   ],
   "source": [
    "encoder = OrdinalEncoder()\n",
    "\n",
    "encoded_data = encoder.fit_transform(client_data[['country', 'gender']])\n",
    "\n",
    "client_data_ordinal = pd.DataFrame(encoded_data, columns = ['country', 'gender'])\n",
    "\n",
    "client_data[['country', 'gender']] = client_data_ordinal\n",
    "\n",
    "client_data[['country', 'gender']] = client_data[['country', 'gender']].astype(int)\n",
    "\n",
    "display(client_data)"
   ]
  },
  {
   "cell_type": "markdown",
   "metadata": {},
   "source": [
    "# Section 2: Examining the Balance of Classes <a id=3></a>"
   ]
  },
  {
   "cell_type": "markdown",
   "metadata": {},
   "source": [
    "Let's now build a model that deliberately does not account for any possible imbalances so to get an idea of how imbalanced the classes.\n",
    "\n",
    "A commonly used ratio when splitting source data into three parts is put 60% of the data into the training set, 20% into the validating set, and the remaining 20% into the testing set. The following code first constructs the testing set, then the training and validating sets."
   ]
  },
  {
   "cell_type": "code",
   "execution_count": 8,
   "metadata": {},
   "outputs": [],
   "source": [
    "_, client_data_test = train_test_split(client_data, test_size = 0.2, random_state = 12345)\n",
    "\n",
    "features_test = client_data_test.drop(['row_number', 'customer_id', 'surname', 'exited'], axis = 1)\n",
    "target_test = client_data_test['exited']"
   ]
  },
  {
   "cell_type": "markdown",
   "metadata": {},
   "source": [
    "Notice how I use the drop function in a way that makes sure that the training, validating, and testings set all have distinct rows."
   ]
  },
  {
   "cell_type": "code",
   "execution_count": 9,
   "metadata": {},
   "outputs": [],
   "source": [
    "features = client_data.drop(['row_number', 'customer_id', 'surname', 'exited'], axis = 1).drop(features_test.index)\n",
    "target = client_data['exited'].drop(target_test.index)\n",
    "\n",
    "features_train, features_valid, target_train, target_valid = train_test_split(features, target, test_size = 0.25, \n",
    "                                                                              random_state = 12345)"
   ]
  },
  {
   "cell_type": "markdown",
   "metadata": {},
   "source": [
    "Notice how in the above code I set test_size equal to 0.25, even though I said that the validating set is intended to have 20% of the source data. The reason why this is the correct test_size value to use is because the source data has 10,000 rows, of which 2,000 (20%) went to the testing set, and hence there are 8,000 rows left for the training and validating sets. 25% of 8,000 is 2,000, and hence setting test_size equal to 0.25 ensures that the testing and validating sets both contain 20% of the source data (and consequently the training set contains 60% of the source data)."
   ]
  },
  {
   "cell_type": "markdown",
   "metadata": {},
   "source": [
    "Now I am able to build the (random forest) model!"
   ]
  },
  {
   "cell_type": "code",
   "execution_count": 10,
   "metadata": {},
   "outputs": [],
   "source": [
    "initial_model = RandomForestClassifier(random_state = 12345)\n",
    "initial_model.fit(features_train, target_train)\n",
    "\n",
    "initial_predicted_valid = initial_model.predict(features_valid)"
   ]
  },
  {
   "cell_type": "markdown",
   "metadata": {},
   "source": [
    "Let's see what the precision, recall, and F1 score values are. \n",
    "\n",
    "In this context, the precision value is the proportion of customers who left Beta Bank and were correctly marked as having left to the customers who left Beta Bank and were correctly marked as having left plus the customers who were incorrectly marked as having left and are actually still banking with Beta Bank.\n",
    "\n",
    "As for recall, that value is the proportion of customers who left Beta Bank and were correctly marked as having left to the customers who left Beta Bank and were correctly marked as having left plus the customers who were incorrectly marked as still banking with Beta Bank even though they actually left.\n",
    "\n",
    "Lastly, the F1 score is the harmonic mean of the precision and recall values.\n",
    "\n",
    "The closer those values are to 1, the better!\n",
    "\n",
    "SIDE NOTES:\n",
    "\n",
    "The formula for precision is TP / (TP + FP)\n",
    "\n",
    "The formula for recall is TP / (TP + FN)\n",
    "\n",
    "The formula for F1 score is 2·(precision · recall) / (precision + recall)"
   ]
  },
  {
   "cell_type": "code",
   "execution_count": 11,
   "metadata": {},
   "outputs": [
    {
     "name": "stdout",
     "output_type": "stream",
     "text": [
      "My initial model's PRECISION value is 0.7807017543859649\n",
      "\n",
      "My initial model's RECALL value is 0.4427860696517413\n",
      "\n",
      "My initial model's F1 SCORE is 0.5650793650793651\n"
     ]
    }
   ],
   "source": [
    "precision_score_initial_model = precision_score(target_valid, initial_predicted_valid)\n",
    "recall_score_initial_model = recall_score(target_valid, initial_predicted_valid)\n",
    "f1_score_initial_model = f1_score(target_valid, initial_predicted_valid)\n",
    "\n",
    "print(\"My initial model's PRECISION value is\", precision_score_initial_model)\n",
    "print()\n",
    "print(\"My initial model's RECALL value is\", recall_score_initial_model)\n",
    "print()\n",
    "print(\"My initial model's F1 SCORE is\", f1_score_initial_model)"
   ]
  },
  {
   "cell_type": "markdown",
   "metadata": {},
   "source": [
    "Since the recall value is much lower than the precision value, that implies that the model acquires a higher portion of false negatives than false positives.\n",
    "\n",
    "Thankfully, the F1 score, which is approximately 0.565, is close to being at least 0.59 (which is what I need). Improving the model should not be difficult.\n",
    "\n",
    "I am curious to see what the ROC curve looks like, and to calculate the AUC-ROC value."
   ]
  },
  {
   "cell_type": "code",
   "execution_count": 12,
   "metadata": {},
   "outputs": [
    {
     "data": {
      "image/png": "[encoded data removed]",
      "text/plain": [
       "<Figure size 648x648 with 1 Axes>"
      ]
     },
     "metadata": {
      "needs_background": "light"
     },
     "output_type": "display_data"
    },
    {
     "name": "stdout",
     "output_type": "stream",
     "text": [
      "\n",
      "My initial model's AUC-ROC value is 0.8321058972969945\n"
     ]
    }
   ],
   "source": [
    "initial_probabilities_valid = initial_model.predict_proba(features_valid)\n",
    "initial_probabilities_one_valid = initial_probabilities_valid[:, 1]\n",
    "fpr_initial, tpr_initial, thresholds = roc_curve(target_valid, initial_probabilities_one_valid)\n",
    "\n",
    "plt.figure(figsize = (9, 9))\n",
    "plt.plot(fpr_initial, tpr_initial)\n",
    "plt.plot([0, 1], [0, 1], linestyle = '--')\n",
    "plt.title('ROC Curve of the Initial Machine Learning Model')\n",
    "plt.xlabel('False Positive Rate')\n",
    "plt.xlim([0.0, 1.0])\n",
    "plt.xticks([0.0, 0.1, 0.2, 0.3, 0.4, 0.5, 0.6, 0.7, 0.8, 0.9, 1.0])\n",
    "plt.ylabel('True Positive Rate')\n",
    "plt.ylim([0.0, 1.0])\n",
    "plt.yticks([0.0, 0.1, 0.2, 0.3, 0.4, 0.5, 0.6, 0.7, 0.8, 0.9, 1.0])\n",
    "\n",
    "for xtick_value in [0.0, 0.1, 0.2, 0.3, 0.4, 0.5, 0.6, 0.7, 0.8, 0.9, 1.0]:\n",
    "    plt.axvline(x = xtick_value, color = 'grey', linestyle = '-', lw = 0.25)\n",
    "    \n",
    "for ytick_value in [0.0, 0.1, 0.2, 0.3, 0.4, 0.5, 0.6, 0.7, 0.8, 0.9, 1.0]:\n",
    "    plt.axhline(y = ytick_value, color = 'grey', linestyle = '-', lw = 0.25)\n",
    "\n",
    "plt.show()\n",
    "\n",
    "print()\n",
    "auc_roc_initial_model = roc_auc_score(target_valid, initial_probabilities_one_valid)\n",
    "print(\"My initial model's AUC-ROC value is\", auc_roc_initial_model)"
   ]
  },
  {
   "cell_type": "markdown",
   "metadata": {},
   "source": [
    "Just like with the precision, recall, and F1 score values, the closer the AUC-ROC value is to 1, the better. This is because if the AUC-ROC value was very close to 1, that would mean there exists at least one threshold where nearly every customer who stopped banking with Beta Bank is correctly identified as having left (true positives), AND nearly every customer who continues banking with Beta Bank is not incorrectly identified as having left (false positives)."
   ]
  },
  {
   "cell_type": "markdown",
   "metadata": {},
   "source": [
    "To help me improve the model, I first need to figure out how much of an imbalance there is with the values of the target feature, **exited**."
   ]
  },
  {
   "cell_type": "code",
   "execution_count": 13,
   "metadata": {},
   "outputs": [
    {
     "data": {
      "text/plain": [
       "0    7963\n",
       "1    2037\n",
       "Name: exited, dtype: int64"
      ]
     },
     "metadata": {},
     "output_type": "display_data"
    }
   ],
   "source": [
    "display(client_data['exited'].value_counts())"
   ]
  },
  {
   "cell_type": "markdown",
   "metadata": {},
   "source": [
    "79.63% of the rows have an **exited** value of 0, and hence only 20.37% of the rows have an **exited** value of 1. This means that Beta Bank has about four times more data about customers who still bank with Beta Bank compared to data about customers who stopped banking with Beta Bank, an imbalance for sure!"
   ]
  },
  {
   "cell_type": "markdown",
   "metadata": {},
   "source": [
    "# Section 3: Improving the Quality of the Model <a id=4></a>"
   ]
  },
  {
   "cell_type": "markdown",
   "metadata": {},
   "source": [
    "**APPROACH #1 (Upsampling)** <a id=4.1></a>"
   ]
  },
  {
   "cell_type": "markdown",
   "metadata": {},
   "source": [
    "I am curious to see if adding more rows with an **exited** value of 1 would improve the model. \n",
    "\n",
    "I will do this by upsampling, which is done by performing the following steps:\n",
    "\n",
    "1) Splitting the training sample into positive and negative observations\n",
    "\n",
    "2) Duplicating the positive observations several times\n",
    "\n",
    "3) Creating a new training sample based on the data obtained\n",
    "\n",
    "4) Shuffling the data"
   ]
  },
  {
   "cell_type": "code",
   "execution_count": 14,
   "metadata": {},
   "outputs": [],
   "source": [
    "def upsample(features, target, repeat):\n",
    "    features_zeros = features[target == 0]\n",
    "    features_ones = features[target == 1]\n",
    "    target_zeros = target[target == 0]\n",
    "    target_ones = target[target == 1]\n",
    "\n",
    "    features_upsampled = pd.concat([features_zeros] + [features_ones] * repeat)\n",
    "    target_upsampled = pd.concat([target_zeros] + [target_ones] * repeat)\n",
    "\n",
    "    features_upsampled, target_upsampled = shuffle(features_upsampled, target_upsampled, random_state = 12345)\n",
    "\n",
    "    return features_upsampled, target_upsampled"
   ]
  },
  {
   "cell_type": "markdown",
   "metadata": {},
   "source": [
    "After defining the upsample function, I tried out setting **repeat** equal to 2, 3, and 4, and it was 3 that came closest to resulting in an F1 score of at least 0.59. \n",
    "\n",
    "Using trial and error, I found that 9 is a good value to set the max_depth parameter equal to. I then wanted to see if I could find a particular value for the n_estimators parameter that made the F1 score at least 0.595, and I found that n_estimators = 88 works! I used a for loop to find that n_estimators value, which is written in the code below.\n",
    "\n",
    "Notice that the for loop is commented out. I did this on purpose because running the loop takes a long time."
   ]
  },
  {
   "cell_type": "code",
   "execution_count": 15,
   "metadata": {},
   "outputs": [],
   "source": [
    "features_upsampled, target_upsampled = upsample(features_train, target_train, 3)\n",
    "\n",
    "upsampled_model = RandomForestClassifier(random_state = 12345, n_estimators = 88, max_depth = 9)\n",
    "\n",
    "upsampled_model.fit(features_upsampled, target_upsampled)\n",
    "\n",
    "upsampled_predicted_valid = upsampled_model.predict(features_valid)\n",
    "\n",
    "#for n_est in range(1, 201):\n",
    "#    upsampled_model = RandomForestClassifier(random_state = 12345, n_estimators = n_est, max_depth = 9)\n",
    "#    upsampled_model.fit(features_upsampled, target_upsampled)\n",
    "#    upsampled_predicted_valid = upsampled_model.predict(features_valid)\n",
    "#    upsampled_model_f1 = f1_score(target_valid, upsampled_predicted_valid)\n",
    "#    if upsampled_model_f1 >= 0.595:\n",
    "#        print('n_estimators =', n_est, '; ', end = '')\n",
    "#        print('F1 SCORE =', upsampled_model_f1)"
   ]
  },
  {
   "cell_type": "code",
   "execution_count": 16,
   "metadata": {},
   "outputs": [
    {
     "name": "stdout",
     "output_type": "stream",
     "text": [
      "My upsampled model's PRECISION value is 0.6141732283464567\n",
      "\n",
      "My upsampled model's RECALL value is 0.582089552238806\n",
      "\n",
      "My upsampled model's F1 SCORE is 0.5977011494252875\n"
     ]
    }
   ],
   "source": [
    "precision_score_upsampled_model = precision_score(target_valid, upsampled_predicted_valid)\n",
    "recall_score_upsampled_model = recall_score(target_valid, upsampled_predicted_valid)\n",
    "f1_score_upsampled_model = f1_score(target_valid, upsampled_predicted_valid)\n",
    "\n",
    "print(\"My upsampled model's PRECISION value is\", precision_score_upsampled_model)\n",
    "print()\n",
    "print(\"My upsampled model's RECALL value is\", recall_score_upsampled_model)\n",
    "print()\n",
    "print(\"My upsampled model's F1 SCORE is\", f1_score_upsampled_model)"
   ]
  },
  {
   "cell_type": "markdown",
   "metadata": {},
   "source": [
    "Though my upsampled model's precision value is lower than that of my initial model, the recall value is higher, to the point that the F1 score is now about 0.5977, which is means I have successfully accomplished making a model with an F1 score of at least 0.59!\n",
    "\n",
    "It's worth noting that my upsampled model has a higher portion of false positives than the initial model, but thankfully it has a lower portion of false negatives to compensate. Furthermore, the upsampled model has a precision value and a recall value that are similar to one another; in contrast, the initial model has a big gap between its precision value and its recall value."
   ]
  },
  {
   "cell_type": "markdown",
   "metadata": {},
   "source": [
    "Now let's plot the ROC curve of the upsampled model, and print the curve's AUC-ROC value."
   ]
  },
  {
   "cell_type": "code",
   "execution_count": 17,
   "metadata": {},
   "outputs": [
    {
     "data": {
      "image/png": "[encoded data removed]",
      "text/plain": [
       "<Figure size 648x648 with 1 Axes>"
      ]
     },
     "metadata": {
      "needs_background": "light"
     },
     "output_type": "display_data"
    },
    {
     "name": "stdout",
     "output_type": "stream",
     "text": [
      "\n",
      "My upsampled model's AUC-ROC value is 0.8533147778006089\n"
     ]
    }
   ],
   "source": [
    "upsampled_probabilities_valid = upsampled_model.predict_proba(features_valid)\n",
    "upsampled_probabilities_one_valid = upsampled_probabilities_valid[:, 1]\n",
    "fpr_upsampled, tpr_upsampled, thresholds = roc_curve(target_valid, upsampled_probabilities_one_valid)\n",
    "\n",
    "plt.figure(figsize = (9, 9))\n",
    "plt.plot(fpr_upsampled, tpr_upsampled)\n",
    "plt.plot([0, 1], [0, 1], linestyle = '--')\n",
    "plt.title('ROC Curve of the Upsampled Machine Learning Model')\n",
    "plt.xlabel('False Positive Rate')\n",
    "plt.xlim([0.0, 1.0])\n",
    "plt.xticks([0.0, 0.1, 0.2, 0.3, 0.4, 0.5, 0.6, 0.7, 0.8, 0.9, 1.0])\n",
    "plt.ylabel('True Positive Rate')\n",
    "plt.ylim([0.0, 1.0])\n",
    "plt.yticks([0.0, 0.1, 0.2, 0.3, 0.4, 0.5, 0.6, 0.7, 0.8, 0.9, 1.0])\n",
    "\n",
    "for xtick_value in [0.0, 0.1, 0.2, 0.3, 0.4, 0.5, 0.6, 0.7, 0.8, 0.9, 1.0]:\n",
    "    plt.axvline(x = xtick_value, color = 'grey', linestyle = '-', lw = 0.25)\n",
    "    \n",
    "for ytick_value in [0.0, 0.1, 0.2, 0.3, 0.4, 0.5, 0.6, 0.7, 0.8, 0.9, 1.0]:\n",
    "    plt.axhline(y = ytick_value, color = 'grey', linestyle = '-', lw = 0.25)\n",
    "\n",
    "plt.show()\n",
    "\n",
    "print()\n",
    "auc_roc_upsampled_model = roc_auc_score(target_valid, upsampled_probabilities_one_valid)\n",
    "print(\"My upsampled model's AUC-ROC value is\", auc_roc_upsampled_model)"
   ]
  },
  {
   "cell_type": "markdown",
   "metadata": {},
   "source": [
    "The initial model's AUC-ROC value is approximately 0.8321, whereas the upsampled model's AUC-ROC value is approximately 0.8533, an improvement!"
   ]
  },
  {
   "cell_type": "markdown",
   "metadata": {},
   "source": [
    "**APPROACH #2 (Downsampling)** <a id=4.2></a>"
   ]
  },
  {
   "cell_type": "markdown",
   "metadata": {},
   "source": [
    "Now let's try downsampling. I am curious to see if dropping some of the rows with an **exited** value of 0 would improve the model.\n",
    "\n",
    "Downsampling is done by following these steps:\n",
    "\n",
    "1) Splitting the training sample into positive and negative observations\n",
    "\n",
    "2) Randomly dropping a portion of the negative observations\n",
    "\n",
    "3) Creating a new training sample based on the data obtained\n",
    "\n",
    "4) Shuffling the data"
   ]
  },
  {
   "cell_type": "code",
   "execution_count": 18,
   "metadata": {},
   "outputs": [],
   "source": [
    "def downsample(features, target, fraction):\n",
    "    features_zeros = features[target == 0]\n",
    "    features_ones = features[target == 1]\n",
    "    target_zeros = target[target == 0]\n",
    "    target_ones = target[target == 1]\n",
    "\n",
    "    features_downsampled = pd.concat([features_zeros.sample(frac = fraction, random_state = 12345)] + [features_ones])\n",
    "    \n",
    "    target_downsampled = pd.concat([target_zeros.sample(frac = fraction, random_state = 12345)] + [target_ones])\n",
    "\n",
    "    features_downsampled, target_downsampled = shuffle(features_downsampled, target_downsampled, random_state = 12345)\n",
    "\n",
    "    return features_downsampled, target_downsampled"
   ]
  },
  {
   "cell_type": "markdown",
   "metadata": {},
   "source": [
    "After defining the downsample function, I tried out setting **fraction** equal to 0.1, 0.2, 0.3, 0.4, 0.5, 0.6, 0.7, 0.8, and 0.9. Using 0.7 gave me the best F1 score.\n",
    "\n",
    "Similar to what I did with the upsampling model, I wrote a for loop to see which **n_estimators** value would give me an F1 score that is even better than 0.6. Additionally, I once again used trial and error to find a good value for the **max_depth** parameter.\n",
    "\n",
    "It turns out that setting **n_estimators** equal to 129 and **max_depth** equal to 27 results in an F1 score that is a little more than 0.605. Once again, I commented out the for loop on purpose."
   ]
  },
  {
   "cell_type": "code",
   "execution_count": 19,
   "metadata": {},
   "outputs": [],
   "source": [
    "features_downsampled, target_downsampled = downsample(features_train, target_train, 0.7)\n",
    "\n",
    "downsampled_model = RandomForestClassifier(random_state = 12345, n_estimators = 129, max_depth = 27)\n",
    "\n",
    "downsampled_model.fit(features_downsampled, target_downsampled)\n",
    "\n",
    "downsampled_predicted_valid = downsampled_model.predict(features_valid)\n",
    "\n",
    "#for n_est in range(1, 201):\n",
    "#    downsampled_model = RandomForestClassifier(random_state = 12345, n_estimators = n_est)\n",
    "#    downsampled_model.fit(features_downsampled, target_downsampled)\n",
    "#    downsampled_predicted_valid = downsampled_model.predict(features_valid)\n",
    "#    downsampled_model_f1 = f1_score(target_valid, downsampled_predicted_valid)\n",
    "#    if downsampled_model_f1 >= 0.6:\n",
    "#        print('n_estimators =', n_est, '; ', end = '')\n",
    "#        print('F1 SCORE =', downsampled_model_f1)"
   ]
  },
  {
   "cell_type": "code",
   "execution_count": 20,
   "metadata": {},
   "outputs": [
    {
     "name": "stdout",
     "output_type": "stream",
     "text": [
      "My downsampled model's PRECISION value is 0.7256944444444444\n",
      "\n",
      "My downsampled model's RECALL value is 0.5199004975124378\n",
      "\n",
      "My downsampled model's F1 SCORE is 0.6057971014492753\n"
     ]
    }
   ],
   "source": [
    "precision_score_downsampled_model = precision_score(target_valid, downsampled_predicted_valid)\n",
    "recall_score_downsampled_model = recall_score(target_valid, downsampled_predicted_valid)\n",
    "f1_score_downsampled_model = f1_score(target_valid, downsampled_predicted_valid)\n",
    "\n",
    "print(\"My downsampled model's PRECISION value is\", precision_score_downsampled_model)\n",
    "print()\n",
    "print(\"My downsampled model's RECALL value is\", recall_score_downsampled_model)\n",
    "print()\n",
    "print(\"My downsampled model's F1 SCORE is\", f1_score_downsampled_model)"
   ]
  },
  {
   "cell_type": "markdown",
   "metadata": {},
   "source": [
    "This is a good result! The F1 score of my downsampled model is a little higher than that of my upsampled model. The downsampled model has a better precision value than the upsampled model, but this is largely offset by the worse recall value. This implies the downsampled model results in fewer false positives but more false negatives. Interestingly, the initial model has the best precision value but the worst recall value.\n",
    "\n",
    "Furthermore, there is a rather large gap between the downsampled model's precision value and its recall value, unlike the upsampled model where its two values are very close to one another."
   ]
  },
  {
   "cell_type": "markdown",
   "metadata": {},
   "source": [
    "I will now plot the ROC curve of the downsampled model, and print the curve's AUC-ROC value."
   ]
  },
  {
   "cell_type": "code",
   "execution_count": 21,
   "metadata": {},
   "outputs": [
    {
     "data": {
      "image/png": "[encoded data removed]",
      "text/plain": [
       "<Figure size 648x648 with 1 Axes>"
      ]
     },
     "metadata": {
      "needs_background": "light"
     },
     "output_type": "display_data"
    },
    {
     "name": "stdout",
     "output_type": "stream",
     "text": [
      "\n",
      "My downsampled model's AUC-ROC value is 0.8419448439903113\n"
     ]
    }
   ],
   "source": [
    "downsampled_probabilities_valid = downsampled_model.predict_proba(features_valid)\n",
    "downsampled_probabilities_one_valid = downsampled_probabilities_valid[:, 1]\n",
    "fpr_downsampled, tpr_downsampled, thresholds = roc_curve(target_valid, downsampled_probabilities_one_valid)\n",
    "\n",
    "plt.figure(figsize = (9, 9))\n",
    "plt.plot(fpr_downsampled, tpr_downsampled)\n",
    "plt.plot([0, 1], [0, 1], linestyle = '--')\n",
    "plt.title('ROC Curve of the Downsampled Machine Learning Model')\n",
    "plt.xlabel('False Positive Rate')\n",
    "plt.xlim([0.0, 1.0])\n",
    "plt.xticks([0.0, 0.1, 0.2, 0.3, 0.4, 0.5, 0.6, 0.7, 0.8, 0.9, 1.0])\n",
    "plt.ylabel('True Positive Rate')\n",
    "plt.ylim([0.0, 1.0])\n",
    "plt.yticks([0.0, 0.1, 0.2, 0.3, 0.4, 0.5, 0.6, 0.7, 0.8, 0.9, 1.0])\n",
    "\n",
    "for xtick_value in [0.0, 0.1, 0.2, 0.3, 0.4, 0.5, 0.6, 0.7, 0.8, 0.9, 1.0]:\n",
    "    plt.axvline(x = xtick_value, color = 'grey', linestyle = '-', lw = 0.25)\n",
    "    \n",
    "for ytick_value in [0.0, 0.1, 0.2, 0.3, 0.4, 0.5, 0.6, 0.7, 0.8, 0.9, 1.0]:\n",
    "    plt.axhline(y = ytick_value, color = 'grey', linestyle = '-', lw = 0.25)\n",
    "\n",
    "plt.show()\n",
    "\n",
    "print()\n",
    "auc_roc_downsampled_model = roc_auc_score(target_valid, downsampled_probabilities_one_valid)\n",
    "print(\"My downsampled model's AUC-ROC value is\", auc_roc_downsampled_model)"
   ]
  },
  {
   "cell_type": "markdown",
   "metadata": {},
   "source": [
    "Interesting... the downsampled model's AUC-ROC value is greater than the initial model, but lower than the upsampled model."
   ]
  },
  {
   "cell_type": "markdown",
   "metadata": {},
   "source": [
    "# Section 4: Performing the Final Test <a id=5></a>"
   ]
  },
  {
   "cell_type": "markdown",
   "metadata": {},
   "source": [
    "It is difficult to decide whether to perform the final test on the upsampled model or the downsampled model because they have such similar F1 scores and AUC-ROC values. That said, I think it makes more sense to choose the upsampled model since there is such a small gap between the resulting precision value and the resulting recall value. (If I chose the downsampled model, then the low recall value might prevent the F1 score from being at least 0.59.)"
   ]
  },
  {
   "cell_type": "code",
   "execution_count": 22,
   "metadata": {},
   "outputs": [
    {
     "name": "stdout",
     "output_type": "stream",
     "text": [
      "The PRECISION value of the final test is 0.6241299303944315\n",
      "\n",
      "The RECALL value of the final test is 0.629976580796253\n",
      "\n",
      "The F1 SCORE of the final test is 0.627039627039627\n"
     ]
    }
   ],
   "source": [
    "upsampled_final_test = upsampled_model.predict(features_test)\n",
    "\n",
    "precision_score_final_test = precision_score(target_test, upsampled_final_test)\n",
    "recall_score_final_test = recall_score(target_test, upsampled_final_test)\n",
    "f1_score_final_test = f1_score(target_test, upsampled_final_test)\n",
    "\n",
    "print(\"The PRECISION value of the final test is\", precision_score_final_test)\n",
    "print()\n",
    "print(\"The RECALL value of the final test is\", recall_score_final_test)\n",
    "print()\n",
    "print(\"The F1 SCORE of the final test is\", f1_score_final_test)"
   ]
  },
  {
   "cell_type": "markdown",
   "metadata": {},
   "source": [
    "Great! The F1 score of the final test is still at least 0.59, as it should be! Furthermore, as expected, the precision value is very similar to the recall value.\n",
    "\n",
    "What is the AUC-ROC value?"
   ]
  },
  {
   "cell_type": "code",
   "execution_count": 23,
   "metadata": {},
   "outputs": [
    {
     "data": {
      "image/png": "[encoded data removed]",
      "text/plain": [
       "<Figure size 648x648 with 1 Axes>"
      ]
     },
     "metadata": {
      "needs_background": "light"
     },
     "output_type": "display_data"
    },
    {
     "name": "stdout",
     "output_type": "stream",
     "text": [
      "\n",
      "My final test's AUC-ROC value is 0.866592423969473\n"
     ]
    }
   ],
   "source": [
    "upsampled_probabilities_final_test = upsampled_model.predict_proba(features_test)\n",
    "upsampled_probabilities_one_final_test = upsampled_probabilities_final_test[:, 1]\n",
    "fpr_final_test, tpr_final_test, thresholds = roc_curve(target_test, upsampled_probabilities_one_final_test)\n",
    "\n",
    "plt.figure(figsize = (9, 9))\n",
    "plt.plot(fpr_final_test, tpr_final_test)\n",
    "plt.plot([0, 1], [0, 1], linestyle = '--')\n",
    "plt.title('ROC Curve of the Final Test of the (Upsampled) Machine Learning Model')\n",
    "plt.xlabel('False Positive Rate')\n",
    "plt.xlim([0.0, 1.0])\n",
    "plt.xticks([0.0, 0.1, 0.2, 0.3, 0.4, 0.5, 0.6, 0.7, 0.8, 0.9, 1.0])\n",
    "plt.ylabel('True Positive Rate')\n",
    "plt.ylim([0.0, 1.0])\n",
    "plt.yticks([0.0, 0.1, 0.2, 0.3, 0.4, 0.5, 0.6, 0.7, 0.8, 0.9, 1.0])\n",
    "\n",
    "for xtick_value in [0.0, 0.1, 0.2, 0.3, 0.4, 0.5, 0.6, 0.7, 0.8, 0.9, 1.0]:\n",
    "    plt.axvline(x = xtick_value, color = 'grey', linestyle = '-', lw = 0.25)\n",
    "    \n",
    "for ytick_value in [0.0, 0.1, 0.2, 0.3, 0.4, 0.5, 0.6, 0.7, 0.8, 0.9, 1.0]:\n",
    "    plt.axhline(y = ytick_value, color = 'grey', linestyle = '-', lw = 0.25)\n",
    "\n",
    "plt.show()\n",
    "\n",
    "print()\n",
    "auc_roc_final_test = roc_auc_score(target_test, upsampled_probabilities_one_final_test)\n",
    "print(\"My final test's AUC-ROC value is\", auc_roc_final_test)"
   ]
  },
  {
   "cell_type": "markdown",
   "metadata": {},
   "source": [
    "Fantastic! This is actually the highest AUC-ROC value I have acquired this whole project! The final test is a success!\n",
    "\n",
    "One thing I haven't mention yet is that the ROC curve is a convenient way to give a machine learning model a sanity check. \n",
    "\n",
    "Hypothetically, if the AUC-ROC value was exactly 0.5, that would mean the model is no better at classifying outcomes than random chance. Furthermore, if the AUC-ROC value was less than 0.5, that would mean the model is even worse at classifying than random chance. Since I got an AUC-ROC value that is much closer to 1 than it is to 0.5, I may be confident that my model is much better at classifying than random chance."
   ]
  },
  {
   "cell_type": "markdown",
   "metadata": {},
   "source": [
    "# Conclusion <a id=6></a>"
   ]
  },
  {
   "cell_type": "markdown",
   "metadata": {},
   "source": [
    "I am happy to inform Beta Bank stakeholders that I have a successfully built a random forest machine learning model that uses data on clients’ past behavior and termination of contracts with the bank to predict whether or not a customer is likely to leave the bank soon. \n",
    "\n",
    "I was able to acquire the model by first realizing that there was a huge imbalance in the values of the target feature, **exited**, then experimenting with upsampling and downsampling. \n",
    "\n",
    "Ultimately, I decided that the upsampled model is the better of the two. My testing demonstrates that the model yields an F1 score of at least 0.59 and an AUC-ROC value of at least 0.85, meaning this model is ***much*** more accurate at classifying customers, between those who will (most likely) leave Beta Bank and those who will (most likely) stay, than random chance.\n",
    "\n",
    "Lastly, I think it is worth mentioning how promising the thresholds on the ROC curves are. My testing has demonstrated that the model's ROC curves have a point located at approximately (0.3, 0.8), which means that about 30% of customers who have not left Beta Bank were mistakingly classified as having left (false positives), and about 80% of customers who did leave Beta Bank were correctly classified as having left (true positives). \n",
    "\n",
    "If Beta Bank stakeholders happen to conclude that 80% is not a high enough percentage for the true positives, and they don't mind increasing the rate of false positives if it means increasing the rate of true positives, then another approximate point on the ROC curve is (0.45, 0.9). "
   ]
  }
 ],
 "metadata": {
  "kernelspec": {
   "display_name": "Python 3 (ipykernel)",
   "language": "python",
   "name": "python3"
  },
  "language_info": {
   "codemirror_mode": {
    "name": "ipython",
    "version": 3
   },
   "file_extension": ".py",
   "mimetype": "text/x-python",
   "name": "python",
   "nbconvert_exporter": "python",
   "pygments_lexer": "ipython3",
   "version": "3.9.5"
  },
  "toc": {
   "base_numbering": 1,
   "nav_menu": {},
   "number_sections": true,
   "sideBar": true,
   "skip_h1_title": true,
   "title_cell": "Table of Contents",
   "title_sidebar": "Contents",
   "toc_cell": false,
   "toc_position": {},
   "toc_section_display": true,
   "toc_window_display": false
  }
 },
 "nbformat": 4,
 "nbformat_minor": 2
}
